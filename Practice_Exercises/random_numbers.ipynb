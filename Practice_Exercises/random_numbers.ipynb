{
 "cells": [
  {
   "cell_type": "code",
   "execution_count": 1,
   "id": "c14210c1",
   "metadata": {},
   "outputs": [],
   "source": [
    "# Import the random module\n",
    "\n",
    "import random"
   ]
  },
  {
   "cell_type": "markdown",
   "id": "7df9cfb5",
   "metadata": {},
   "source": [
    "### The randint() Function"
   ]
  },
  {
   "cell_type": "code",
   "execution_count": 3,
   "id": "c147aa30",
   "metadata": {},
   "outputs": [
    {
     "data": {
      "text/plain": [
       "-4"
      ]
     },
     "execution_count": 3,
     "metadata": {},
     "output_type": "execute_result"
    }
   ],
   "source": [
    "random.randint(-90, 90)"
   ]
  },
  {
   "cell_type": "markdown",
   "id": "3a05aad3",
   "metadata": {},
   "source": [
    "### The random() Function"
   ]
  },
  {
   "cell_type": "code",
   "execution_count": 4,
   "id": "2b09cfb0",
   "metadata": {},
   "outputs": [
    {
     "data": {
      "text/plain": [
       "0.9129268992274199"
      ]
     },
     "execution_count": 4,
     "metadata": {},
     "output_type": "execute_result"
    }
   ],
   "source": [
    "random.random()"
   ]
  },
  {
   "cell_type": "code",
   "execution_count": 8,
   "id": "320149ec",
   "metadata": {},
   "outputs": [
    {
     "data": {
      "text/plain": [
       "[68.74713410941744,\n",
       " 32.46497281585268,\n",
       " 33.233762314238156,\n",
       " -68.87812906531857,\n",
       " -67.45517865736555,\n",
       " -25.11462176701241,\n",
       " -22.270941981905256,\n",
       " -28.529373919513098,\n",
       " -81.29509947943737,\n",
       " -25.40505319463815]"
      ]
     },
     "execution_count": 8,
     "metadata": {},
     "output_type": "execute_result"
    }
   ],
   "source": [
    "x = 1\n",
    "\n",
    "latitudes = []\n",
    "\n",
    "\n",
    "while x < 11:\n",
    "    \n",
    "    random_lat = random.randint(-90, 89) + random.random()\n",
    "    \n",
    "    latitudes.append(random_lat)\n",
    "    \n",
    "    x += 1\n",
    "\n",
    "latitudes"
   ]
  },
  {
   "cell_type": "markdown",
   "id": "dc1eb1cf",
   "metadata": {},
   "source": [
    "### The randrange() Function"
   ]
  },
  {
   "cell_type": "code",
   "execution_count": 9,
   "id": "d118b56b",
   "metadata": {},
   "outputs": [
    {
     "data": {
      "text/plain": [
       "-6"
      ]
     },
     "execution_count": 9,
     "metadata": {},
     "output_type": "execute_result"
    }
   ],
   "source": [
    "random.randrange(-90, 90, step=1)"
   ]
  },
  {
   "cell_type": "code",
   "execution_count": 10,
   "id": "eb0c7165",
   "metadata": {},
   "outputs": [
    {
     "data": {
      "text/plain": [
       "-15"
      ]
     },
     "execution_count": 10,
     "metadata": {},
     "output_type": "execute_result"
    }
   ],
   "source": [
    "random.randrange(-90, 90, step=3)"
   ]
  },
  {
   "cell_type": "markdown",
   "id": "217d9093",
   "metadata": {},
   "source": [
    "### The rand uniform() Function"
   ]
  },
  {
   "cell_type": "code",
   "execution_count": 11,
   "id": "9510b754",
   "metadata": {},
   "outputs": [
    {
     "data": {
      "text/plain": [
       "54.03888906097683"
      ]
     },
     "execution_count": 11,
     "metadata": {},
     "output_type": "execute_result"
    }
   ],
   "source": [
    "random.uniform(-90, 90)"
   ]
  },
  {
   "cell_type": "code",
   "execution_count": 12,
   "id": "dd26910c",
   "metadata": {},
   "outputs": [],
   "source": [
    "# Import the NumPy module\n",
    "\n",
    "import numpy as np"
   ]
  },
  {
   "cell_type": "code",
   "execution_count": 13,
   "id": "fe6f150a",
   "metadata": {},
   "outputs": [
    {
     "data": {
      "text/plain": [
       "-1.9881022137104907"
      ]
     },
     "execution_count": 13,
     "metadata": {},
     "output_type": "execute_result"
    }
   ],
   "source": [
    "np.random.uniform(-90.000, 90.000)"
   ]
  },
  {
   "cell_type": "code",
   "execution_count": 14,
   "id": "0dcaeb28",
   "metadata": {},
   "outputs": [
    {
     "data": {
      "text/plain": [
       "array([ 67.42076887,  68.31896594,  35.60331168, -16.07366132,\n",
       "       -81.37576357,  -9.57190262,  22.38744165,  -3.3619918 ,\n",
       "       -30.35434669,  51.03779746,  50.15851927,   0.23205989,\n",
       "       -30.92169675, -27.30992291, -44.86626006, -11.39172983,\n",
       "        25.65283927,  -1.39800291,  11.78821565, -30.14969246,\n",
       "       -63.87624798, -69.84584789,  60.48496016,  67.59336785,\n",
       "        63.79648174, -35.67172857,  43.16905209, -79.0951694 ,\n",
       "        46.9382784 , -10.64057542, -60.57223768, -69.39712604,\n",
       "       -43.34016889,  79.35253521,  46.02650161,  22.59268567,\n",
       "        65.04459911,  32.60936961, -83.66959155,  80.06295933,\n",
       "       -51.61707484, -38.91658706, -19.38536062,  21.03314012,\n",
       "       -22.57214683,  69.93972841, -30.4292108 ,  33.87225917,\n",
       "         3.83683135, -50.87308892])"
      ]
     },
     "execution_count": 14,
     "metadata": {},
     "output_type": "execute_result"
    }
   ],
   "source": [
    "np.random.uniform(-90.000, 90.000, size=50)"
   ]
  },
  {
   "cell_type": "code",
   "execution_count": 15,
   "id": "03169dd8",
   "metadata": {},
   "outputs": [],
   "source": [
    "# Import timeit\n",
    "\n",
    "import timeit"
   ]
  },
  {
   "cell_type": "code",
   "execution_count": 16,
   "id": "34a433cb",
   "metadata": {},
   "outputs": [
    {
     "name": "stdout",
     "output_type": "stream",
     "text": [
      "13.6 µs ± 17.1 ns per loop (mean ± std. dev. of 7 runs, 100000 loops each)\n"
     ]
    }
   ],
   "source": [
    "%timeit np.random.uniform(-90.000, 90.000, size=1500)"
   ]
  },
  {
   "cell_type": "code",
   "execution_count": 17,
   "id": "28637cb9",
   "metadata": {},
   "outputs": [
    {
     "name": "stdout",
     "output_type": "stream",
     "text": [
      "1.62 ms ± 5.44 µs per loop (mean ± std. dev. of 7 runs, 1000 loops each)\n"
     ]
    }
   ],
   "source": [
    "def latitudes(size):\n",
    "    latitudes = []\n",
    "    x = 0\n",
    "    while x < (size):\n",
    "        random_lat = random.randint(-90, 90) + random.random()\n",
    "        latitudes.append(random_lat)\n",
    "        x += 1\n",
    "    return latitudes\n",
    "# Call the function with 1500.\n",
    "%timeit latitudes(1500)"
   ]
  },
  {
   "cell_type": "code",
   "execution_count": null,
   "id": "3b606615",
   "metadata": {},
   "outputs": [],
   "source": []
  }
 ],
 "metadata": {
  "kernelspec": {
   "display_name": "PythonData",
   "language": "python",
   "name": "pythondata"
  },
  "language_info": {
   "codemirror_mode": {
    "name": "ipython",
    "version": 3
   },
   "file_extension": ".py",
   "mimetype": "text/x-python",
   "name": "python",
   "nbconvert_exporter": "python",
   "pygments_lexer": "ipython3",
   "version": "3.7.13"
  }
 },
 "nbformat": 4,
 "nbformat_minor": 5
}
